{
 "cells": [
  {
   "cell_type": "code",
   "execution_count": 8,
   "id": "54a1c985",
   "metadata": {},
   "outputs": [],
   "source": [
    ">>> from Bio.Data import CodonTable\n",
    ">>> standard_table = CodonTable.unambiguous_dna_by_id[1]\n",
    ">>> mito_table = CodonTable.unambiguous_dna_by_id[2]"
   ]
  },
  {
   "cell_type": "code",
   "execution_count": 9,
   "id": "53e3a20a",
   "metadata": {},
   "outputs": [
    {
     "name": "stdout",
     "output_type": "stream",
     "text": [
      "Table 1 Standard, SGC0\n",
      "\n",
      "  |  T      |  C      |  A      |  G      |\n",
      "--+---------+---------+---------+---------+--\n",
      "T | TTT F   | TCT S   | TAT Y   | TGT C   | T\n",
      "T | TTC F   | TCC S   | TAC Y   | TGC C   | C\n",
      "T | TTA L   | TCA S   | TAA Stop| TGA Stop| A\n",
      "T | TTG L(s)| TCG S   | TAG Stop| TGG W   | G\n",
      "--+---------+---------+---------+---------+--\n",
      "C | CTT L   | CCT P   | CAT H   | CGT R   | T\n",
      "C | CTC L   | CCC P   | CAC H   | CGC R   | C\n",
      "C | CTA L   | CCA P   | CAA Q   | CGA R   | A\n",
      "C | CTG L(s)| CCG P   | CAG Q   | CGG R   | G\n",
      "--+---------+---------+---------+---------+--\n",
      "A | ATT I   | ACT T   | AAT N   | AGT S   | T\n",
      "A | ATC I   | ACC T   | AAC N   | AGC S   | C\n",
      "A | ATA I   | ACA T   | AAA K   | AGA R   | A\n",
      "A | ATG M(s)| ACG T   | AAG K   | AGG R   | G\n",
      "--+---------+---------+---------+---------+--\n",
      "G | GTT V   | GCT A   | GAT D   | GGT G   | T\n",
      "G | GTC V   | GCC A   | GAC D   | GGC G   | C\n",
      "G | GTA V   | GCA A   | GAA E   | GGA G   | A\n",
      "G | GTG V   | GCG A   | GAG E   | GGG G   | G\n",
      "--+---------+---------+---------+---------+--\n"
     ]
    }
   ],
   "source": [
    "print(standard_table)"
   ]
  },
  {
   "cell_type": "code",
   "execution_count": 10,
   "id": "02f6b43e",
   "metadata": {},
   "outputs": [
    {
     "name": "stdout",
     "output_type": "stream",
     "text": [
      "Sequence Length: 1409\n",
      "Number of Alanine (A) residues: 64\n"
     ]
    }
   ],
   "source": [
    "from Bio import SeqIO\n",
    "\n",
    "# Reading the sequence from the provided FASTA file\n",
    "file_path = '/Users/ashwinnallamothu/Desktop/rest.uniprot.org_uniprotkb_G3ECR1.fasta.txt'  # Replace with your file path\n",
    "sequence = SeqIO.read(file_path, 'fasta')\n",
    "\n",
    "# Calculating sequence length\n",
    "seq_length = len(sequence.seq)\n",
    "print(f\"Sequence Length: {seq_length}\")\n",
    "\n",
    "# Calculating amino acid composition\n",
    "aa_count = sequence.seq.count(\"A\")  # Replace with any amino acid you want to count\n",
    "print(f\"Number of Alanine (A) residues: {aa_count}\")\n"
   ]
  },
  {
   "cell_type": "code",
   "execution_count": 13,
   "id": "d9386e7c",
   "metadata": {},
   "outputs": [
    {
     "name": "stdout",
     "output_type": "stream",
     "text": [
      "Molecular Weight: 15998.339999999998\n",
      "Amino Acid Composition: {'A': 15, 'R': 3, 'N': 6, 'D': 7, 'C': 2, 'E': 8, 'Q': 3, 'G': 13, 'H': 9, 'I': 0, 'L': 18, 'K': 11, 'M': 2, 'F': 8, 'P': 7, 'S': 5, 'T': 7, 'W': 2, 'Y': 3, 'V': 18}\n"
     ]
    }
   ],
   "source": [
    "# Defining the average atomic masses for the common amino acids\n",
    "aa_masses = {\n",
    "    'A': 89.09, 'R': 174.20, 'N': 132.12, 'D': 133.10, 'C': 121.15,\n",
    "    'E': 147.13, 'Q': 146.15, 'G': 75.07, 'H': 155.16, 'I': 131.17,\n",
    "    'L': 131.17, 'K': 146.19, 'M': 149.21, 'F': 165.19, 'P': 115.13,\n",
    "    'S': 105.09, 'T': 119.12, 'W': 204.23, 'Y': 181.19, 'V': 117.15\n",
    "}\n",
    "\n",
    "# Function to calculate molecular weight\n",
    "def calculate_molecular_weight(sequence, aa_masses):\n",
    "    return sum(aa_masses[aa] for aa in sequence) - (len(sequence) - 1) * 18.015  # subtracting the water mass released during peptide bond formation\n",
    "\n",
    "# Function to calculate amino acid composition\n",
    "def calculate_aa_composition(sequence):\n",
    "    aa_comp = {aa: 0 for aa in aa_masses.keys()}\n",
    "    for aa in sequence:\n",
    "        aa_comp[aa] += 1\n",
    "    return aa_comp\n",
    "\n",
    "# Amino acid sequence of Hemoglobin subunit beta\n",
    "sequence = \"MVHLTPEEKSAVTALWGKVNVDEVGGEALGRLLVVYPWTQRFFESFGDLSTPDAVMGNPKVKAHGKKVLGAFSDGLAHLDNLKGTFATLSELHCDKLHVDPENFRLLGNVLVCVLAHHFGKEFTPPVQAAYQKVVAGVANALAHKYH\"\n",
    "\n",
    "# Calculating molecular weight\n",
    "mol_weight = calculate_molecular_weight(sequence, aa_masses)\n",
    "\n",
    "# Calculating amino acid composition\n",
    "aa_comp = calculate_aa_composition(sequence)\n",
    "\n",
    "# Print the results\n",
    "print(\"Molecular Weight:\", mol_weight)\n",
    "print(\"Amino Acid Composition:\", aa_comp)\n"
   ]
  },
  {
   "cell_type": "code",
   "execution_count": null,
   "id": "7c0efbe6",
   "metadata": {},
   "outputs": [],
   "source": []
  }
 ],
 "metadata": {
  "kernelspec": {
   "display_name": "Python 3 (ipykernel)",
   "language": "python",
   "name": "python3"
  },
  "language_info": {
   "codemirror_mode": {
    "name": "ipython",
    "version": 3
   },
   "file_extension": ".py",
   "mimetype": "text/x-python",
   "name": "python",
   "nbconvert_exporter": "python",
   "pygments_lexer": "ipython3",
   "version": "3.11.5"
  }
 },
 "nbformat": 4,
 "nbformat_minor": 5
}
